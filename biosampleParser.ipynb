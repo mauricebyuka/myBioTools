{
 "cells": [
  {
   "cell_type": "markdown",
   "id": "520ccd4d",
   "metadata": {},
   "source": [
    "# Biosample parser"
   ]
  },
  {
   "cell_type": "markdown",
   "id": "725bc58b",
   "metadata": {},
   "source": [
    "This notebook contains the code for parsing and extract metadata from an xml file containing biosample information. The parsed file can be the result of search on NCBI's `Biosample` database. If the contains data for multiple organisms, the species of interest has to be specified (variable `species`). Cells that can be edited begin with the comment: `# Edit this cell`. or `# Can be edited`."
   ]
  },
  {
   "cell_type": "markdown",
   "id": "fd6a587e",
   "metadata": {},
   "source": [
    "The folder `data` contains an example of a file that was obtained by searching the database using `Klebsiella pneumoniae` as the search key words. Runing the notebook should result in a file named `Klebsiella_metadata.csv` in the same folder."
   ]
  },
  {
   "cell_type": "code",
   "execution_count": null,
   "id": "6ca53fea",
   "metadata": {},
   "outputs": [],
   "source": [
    "import xml.etree.ElementTree as ET # for parsing xml files\n",
    "import csv"
   ]
  },
  {
   "cell_type": "code",
   "execution_count": null,
   "id": "3f55529d",
   "metadata": {},
   "outputs": [],
   "source": [
    "# Edit this cell\n",
    "species = 'Klebsiella pneumoniae' # Change to your organism\n",
    "all_biosamples = 'data/biosample_result.xml' # Change this to your search file\n"
   ]
  },
  {
   "cell_type": "code",
   "execution_count": null,
   "id": "52174866",
   "metadata": {},
   "outputs": [],
   "source": [
    "species_biosamples = f'data/{species.split(\" \")[0]}_biosamples.xml'\n",
    "metadata = f'data/{species.split(\" \")[0]}_metadata.csv'"
   ]
  },
  {
   "cell_type": "code",
   "execution_count": null,
   "id": "2128117d",
   "metadata": {},
   "outputs": [],
   "source": [
    "tree = ET.parse(all_biosamples)\n",
    "myroot = tree.getroot()"
   ]
  },
  {
   "cell_type": "code",
   "execution_count": null,
   "id": "a056848a",
   "metadata": {},
   "outputs": [],
   "source": [
    "count_all_samples = 0\n",
    "for record in tree.findall('BioSample'):\n",
    "    count_all_samples += 1\n",
    "    accession = record.get('accession')\n",
    "    for elt in record.iter('Organism'):\n",
    "        name = elt.get('taxonomy_name')\n",
    "    if not species in name:\n",
    "        myroot.remove(record)\n",
    "tree.write(species_biosamples)"
   ]
  },
  {
   "cell_type": "code",
   "execution_count": null,
   "id": "3136fe92",
   "metadata": {},
   "outputs": [],
   "source": [
    "new_tree = ET.parse(species_biosamples)\n",
    "new_root = new_tree.getroot()\n",
    "IDS = [] # Accession numbers of records for the species \n",
    "for record in new_tree.findall('BioSample'):\n",
    "    accession = record.get('accession')\n",
    "    if not accession in IDS:\n",
    "        IDS.append(accession)\n",
    "print(f'Total biosample records: {count_all_samples}')\n",
    "print(f'Biosample records for {species}: {len(IDS)}')"
   ]
  },
  {
   "cell_type": "code",
   "execution_count": null,
   "id": "01c29b0c",
   "metadata": {},
   "outputs": [],
   "source": [
    "# Make a list of all attributes (will help for counting)\n",
    "atribute_list = []\n",
    "for record in new_tree.findall('BioSample'):\n",
    "    for attribute in record.iter('Attribute'):\n",
    "        atribute_list.append(attribute.attrib['attribute_name'])\n",
    "\n",
    "# Make a list of unique attributes\n",
    "uniq_atributes = []\n",
    "for att in atribute_list:\n",
    "    if not att in uniq_atributes:\n",
    "        uniq_atributes.append(att)\n",
    "\n",
    "# Make lists of attributes showing geographic location, collection date and host \n",
    "for att in sorted (uniq_atributes):\n",
    "    print(att)\n"
   ]
  },
  {
   "cell_type": "code",
   "execution_count": null,
   "id": "8f43e263",
   "metadata": {},
   "outputs": [],
   "source": [
    "# Can be edited\n",
    "\n",
    "# From the output, the following is a list of attributes and all their possible names.\n",
    "select_attributes = { \n",
    "'location': ['country', 'geographic location (country and/or sea)', 'geographic location (country and/or sea, region)', 'geographic location (country and/or sea,region)', 'geographic location (region and locality)', 'geo_loc_name', 'Isolation_country'],\n",
    "'collection_date': ['collection date', 'collection_date', 'collection-date', 'time of collection'],\n",
    "'hosts': ['host', 'host scientific name', 'specific host', 'specific_host'],\n",
    "'sources':['source', 'isolation site', 'isolation source', 'isolation-source', 'isolation_source'],\n",
    "'source_type': ['source type', 'source_type'],\n",
    "'serotype': ['serotype', 'serovar'],\n",
    "'disease': ['host disease', 'host health state', 'host-disease', 'host_disease', 'host_health_state'],\n",
    "'package': ['package', 'atribute_package', 'attribute package', 'attribute_package'],\n",
    "'collector': ['collected by', 'collected-by', 'collected_by']\n",
    "}"
   ]
  },
  {
   "cell_type": "code",
   "execution_count": null,
   "id": "596395ff",
   "metadata": {},
   "outputs": [],
   "source": [
    "for header in select_attributes:\n",
    "    print(header.capitalize().replace('_', ' '))"
   ]
  },
  {
   "cell_type": "code",
   "execution_count": null,
   "id": "b2dccd14",
   "metadata": {},
   "outputs": [],
   "source": [
    "# Get the numbers of files with needed attributes\n",
    "attributes = {}\n",
    "n_host = 0\n",
    "n_date = 0\n",
    "n_loc = 0\n",
    "n_source = 0\n",
    "\n",
    "for att in atribute_list:\n",
    "    if att in select_attributes['hosts']:\n",
    "        n_host += 1\n",
    "    elif att in select_attributes['collection_date']:\n",
    "        n_date += 1\n",
    "    elif att in select_attributes['location']:\n",
    "        n_loc += 1\n",
    "    elif att in select_attributes['sources']:\n",
    "        n_source += 1\n",
    "\n",
    "attributes['location'] = n_loc\n",
    "attributes['collection_date'] = n_date\n",
    "attributes['hosts'] = n_host\n",
    "attributes['sources'] = n_source\n",
    "\n",
    "print('Total number of files: ', len(IDS))\n",
    "\n",
    "print('With location: ', attributes['location'])\n",
    "print('With collection date: ', attributes['collection_date'])\n",
    "print('With host info: ', attributes['hosts'])\n",
    "print('With source info: ', attributes['sources'])\n"
   ]
  },
  {
   "cell_type": "code",
   "execution_count": null,
   "id": "12a06adc",
   "metadata": {},
   "outputs": [],
   "source": [
    "# From the output the lists will be: \n",
    "\n",
    "with open(metadata, 'w') as meta:\n",
    "    fwriter = csv.writer(meta, dialect=csv.excel_tab)\n",
    "    headers = ['Biosample']\n",
    "    for header in select_attributes:\n",
    "        headers.append(header.capitalize().replace('_', ' '))\n",
    "    \n",
    "    fwriter.writerow(headers)\n",
    "\n",
    "    for record in new_tree.findall('BioSample'):\n",
    "        record_attributes = {} # This will hold the attributes to be added to the metadata\n",
    "\n",
    "        accession = record.get('accession')\n",
    "\n",
    "        for attribute in record.iter('Attribute'):\n",
    "            for value in select_attributes:\n",
    "                if attribute.attrib['attribute_name'] in select_attributes[value]:\n",
    "                    if value == 'location': # Thelocation value has a ':' separator - we want just the country\n",
    "                        record_attributes[value] = attribute.text.split(':')[0].strip()\n",
    "                    elif value == 'collection_date': # We just want the year - first four digits\n",
    "                        record_attributes[value] = attribute.text[:4]\n",
    "                    else:\n",
    "                        record_attributes[value] = attribute.text\n",
    "        final_values = [accession]\n",
    "    \n",
    "        for element in  select_attributes:\n",
    "            #Here you can make a sublist from the select_attributes if you dont want them all.\n",
    "            final_values.append(record_attributes.get(element, 'Not available'))\n",
    "                                \n",
    "        fwriter.writerow(final_values)"
   ]
  }
 ],
 "metadata": {
  "kernelspec": {
   "display_name": "Python 3 (ipykernel)",
   "language": "python",
   "name": "python3"
  },
  "language_info": {
   "codemirror_mode": {
    "name": "ipython",
    "version": 3
   },
   "file_extension": ".py",
   "mimetype": "text/x-python",
   "name": "python",
   "nbconvert_exporter": "python",
   "pygments_lexer": "ipython3",
   "version": "3.9.0"
  }
 },
 "nbformat": 4,
 "nbformat_minor": 5
}
